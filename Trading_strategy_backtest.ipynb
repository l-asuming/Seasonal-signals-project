{
 "cells": [
  {
   "cell_type": "markdown",
   "id": "7a4d011c",
   "metadata": {},
   "source": [
    "## Trading strategy"
   ]
  },
  {
   "cell_type": "code",
   "execution_count": null,
   "id": "64f49fc7",
   "metadata": {},
   "outputs": [],
   "source": [
    "import numpy as np\n",
    "import pandas as pd\n",
    "import matplotlib.pyplot as plt\n",
    "import matplotlib.dates as mdates"
   ]
  },
  {
   "cell_type": "markdown",
   "id": "8eb89ea8",
   "metadata": {},
   "source": [
    "Assumptions for all strategy backtests (to keep it simple for me):\n",
    "\n",
    "1. No transaction costs - We assume trading occurs without commissions or fees\n",
    "\n",
    "2. Perfect liquidity – Trades can be executed instantly at the daily closing price of the currency pair\n",
    "\n",
    "3. Exposure only – Strategies reflect exposure of current wealth to the market, \n",
    "we are not considering partial staking or allocation of a separate money “pot” "
   ]
  },
  {
   "cell_type": "code",
   "execution_count": null,
   "id": "ebbd420b",
   "metadata": {
    "lines_to_next_cell": 1
   },
   "outputs": [],
   "source": [
    "df1 = pd.read_csv(\"Projects/Seasonal signals project/BBD_GBP 2022-2024.csv\", encoding='ISO-8859-1')\n",
    "df1[\"Date\"] = pd.to_datetime(df1[\"Date\"], dayfirst=True)\n",
    "df1 = df1.sort_values(\"Date\")"
   ]
  },
  {
   "cell_type": "markdown",
   "id": "91399e62",
   "metadata": {},
   "source": [
    "## Strategy 1"
   ]
  },
  {
   "cell_type": "markdown",
   "id": "f68c2a7c",
   "metadata": {},
   "source": [
    "Take a short position in March, a long position in August and September, and a flat position in all the other months"
   ]
  },
  {
   "cell_type": "code",
   "execution_count": null,
   "id": "5095284c",
   "metadata": {
    "lines_to_next_cell": 1
   },
   "outputs": [],
   "source": [
    "def seasonal_signal_1(Date):\n",
    "    month_number = Date.month\n",
    "   \n",
    "    if month_number == 3:\n",
    "        return -1\n",
    "    if 8 <= month_number <= 9 :\n",
    "        return 1\n",
    "    else:\n",
    "        return 0\n",
    "    #-1 results in a short position, 0 results in a flat position and 1 results in a long position (see below ***)"
   ]
  },
  {
   "cell_type": "code",
   "execution_count": null,
   "id": "1bb33f3d",
   "metadata": {},
   "outputs": [],
   "source": [
    "df1[\"Signal 1\"] = df1[\"Date\"].apply(seasonal_signal_1) #applies the signal based on the date\n",
    "df1[\"Daily return\"] = df1[\"Close\"].pct_change()\n",
    "df1[\"Strategy return 1\"] = df1[\"Signal 1\"]*df1[\"Daily return\"] #***\n",
    "df1[\"Cumulative wealth 1\"] = (1+df1[\"Strategy return 1\"]).cumprod() #calculates cumulative wealth of strategy 1"
   ]
  },
  {
   "cell_type": "code",
   "execution_count": null,
   "id": "dc7cc8e0",
   "metadata": {},
   "outputs": [],
   "source": [
    "cagr_1 = ((df1[\"Cumulative wealth 1\"].iloc[-1])**(1/3)) - 1\n",
    "volatility_1 = df1[\"Strategy return 1\"].std() * np.sqrt(252)\n",
    "sharpe_1 = cagr_1/volatility_1\n",
    "wins_1 = [x for x in df1[\"Strategy return 1\"] if x>0]\n",
    "trades_1 = [x for x in df1[\"Strategy return 1\"] if x!=0]\n",
    "win_rate_1 = len(wins_1)/len(trades_1)\n",
    "df1[\"Rolling max 1\"] = df1[\"Cumulative wealth 1\"].cummax()\n",
    "df1[\"Drawdown 1\"] = ((df1[\"Cumulative wealth 1\"]-df1[\"Rolling max 1\"])/df1[\"Rolling max 1\"])\n",
    "max_drawdown_1 = df1[\"Drawdown 1\"].min() #calculations of key metrics of the first strategy"
   ]
  },
  {
   "cell_type": "code",
   "execution_count": null,
   "id": "85b33c75",
   "metadata": {},
   "outputs": [],
   "source": [
    "metrics_text_1 = (\n",
    "    f\"CAGR: {cagr_1*100:.2f}%\\n\"\n",
    "    f\"Sharpe: {sharpe_1:.2f}\\n\"\n",
    "    f\"Max Drawdown: {max_drawdown_1*100:.2f}%\\n\"\n",
    "    f\"Volatility: {volatility_1*100:.2f}%\\n\"\n",
    "    f\"Win rate: {win_rate_1*100:.2f}%\")"
   ]
  },
  {
   "cell_type": "code",
   "execution_count": null,
   "id": "cadefa46",
   "metadata": {
    "lines_to_next_cell": 1
   },
   "outputs": [],
   "source": [
    "fig1, (ax1, ax2) = plt.subplots(1, 2, figsize=(14,6), gridspec_kw={'width_ratios': [3, 1]})\n",
    "ax1.plot(df1[\"Date\"], df1[\"Cumulative wealth 1\"], label=\"Cumulative Wealth 1\", color='blue')\n",
    "ax1.set_xlabel(\"Date\")\n",
    "ax1.set_ylabel(\"Cumulative Wealth 1\")\n",
    "ax1.set_title(\"Cumulative Wealth 2022-2024 Strategy 1\")\n",
    "ax1.grid(True)\n",
    "ax1.legend()\n",
    "ax1.xaxis.set_major_locator(mdates.MonthLocator())\n",
    "ax1.xaxis.set_major_formatter(mdates.DateFormatter(\"%b %Y\"))\n",
    "plt.setp(ax1.get_xticklabels(), rotation=45)\n",
    "ax2.axis('off')  \n",
    "ax2.text(0, 0.5, metrics_text_1, fontsize=12, verticalalignment='center')\n",
    "ax2.set_title('Key Metrics', pad=20)\n",
    "plt.tight_layout()\n",
    "plt.show() #plots the performance of the first strategy"
   ]
  },
  {
   "cell_type": "markdown",
   "id": "63d6eb16",
   "metadata": {},
   "source": [
    "## Strategy 1 reflections:\n",
    "\n",
    "Sharpe is below 1 which is not good (the risk of the investment is greater than the award)\n",
    "\n",
    "CAGR of 4.38 which means returns is a good as that of a savings account (not amazing)\n",
    "\n",
    "We gained money in the first two longs and one of the shorts, what would happen if we went long-only? "
   ]
  },
  {
   "cell_type": "markdown",
   "id": "4d09aaf7",
   "metadata": {},
   "source": [
    "## Strategy 2"
   ]
  },
  {
   "cell_type": "markdown",
   "id": "00ee8a3c",
   "metadata": {},
   "source": [
    "Take a short position in March, and a flat position in all the other months"
   ]
  },
  {
   "cell_type": "code",
   "execution_count": null,
   "id": "3a816c26",
   "metadata": {
    "lines_to_next_cell": 1
   },
   "outputs": [],
   "source": [
    "def seasonal_signal_2(Date):\n",
    "    month_number = Date.month\n",
    "   \n",
    "    if 8 <= month_number <= 9 :\n",
    "        return 1\n",
    "    else:\n",
    "        return 0"
   ]
  },
  {
   "cell_type": "code",
   "execution_count": null,
   "id": "47846e7e",
   "metadata": {},
   "outputs": [],
   "source": [
    "df1[\"Signal 2\"] = df1[\"Date\"].apply(seasonal_signal_2) #code below is similar to code above, just a different signal applied\n",
    "df1[\"Strategy return 2\"] = df1[\"Signal 2\"]*df1[\"Daily return\"]\n",
    "df1[\"Cumulative wealth 2\"] = (1+df1[\"Strategy return 2\"]).cumprod()"
   ]
  },
  {
   "cell_type": "code",
   "execution_count": null,
   "id": "bf71b2b6",
   "metadata": {},
   "outputs": [],
   "source": [
    "cagr_2 = ((df1[\"Cumulative wealth 2\"].iloc[-1])**(1/3)) - 1\n",
    "volatility_2 = df1[\"Strategy return 2\"].std() * np.sqrt(252)\n",
    "sharpe_2 = cagr_2/volatility_2\n",
    "wins_2 = [x for x in df1[\"Strategy return 2\"] if x>0]\n",
    "trades_2 = [x for x in df1[\"Strategy return 2\"] if x!=0]\n",
    "win_rate_2 = len(wins_2)/len(trades_2)\n",
    "df1[\"Rolling max 2\"] = df1[\"Cumulative wealth 2\"].cummax()\n",
    "df1[\"Drawdown 2\"] = ((df1[\"Cumulative wealth 2\"]-df1[\"Rolling max 2\"])/df1[\"Rolling max 2\"])\n",
    "max_drawdown_2 = df1[\"Drawdown 2\"].min()"
   ]
  },
  {
   "cell_type": "code",
   "execution_count": null,
   "id": "f0e7fc3f",
   "metadata": {},
   "outputs": [],
   "source": [
    "metrics_text_2 = (\n",
    "    f\"CAGR: {cagr_2*100:.2f}%\\n\"\n",
    "    f\"Sharpe: {sharpe_2:.2f}\\n\"\n",
    "    f\"Max Drawdown: {max_drawdown_2*100:.2f}%\\n\"\n",
    "    f\"Volatility: {volatility_2*100:.2f}%\\n\"\n",
    "    f\"Win rate: {win_rate_2*100:.2f}%\")"
   ]
  },
  {
   "cell_type": "code",
   "execution_count": null,
   "id": "3f7181c0",
   "metadata": {},
   "outputs": [],
   "source": [
    "fig2, (ax3, ax4) = plt.subplots(1, 2, figsize=(14,6), gridspec_kw={'width_ratios': [3, 1]})\n",
    "ax3.plot(df1[\"Date\"], df1[\"Cumulative wealth 2\"], label=\"Cumulative Wealth 2\", color='blue')\n",
    "ax3.set_xlabel(\"Date\")\n",
    "ax3.set_ylabel(\"Cumulative Wealth 2\")\n",
    "ax3.set_title(\"Cumulative Wealth 2022-2024 Strategy 2\")\n",
    "ax3.grid(True)\n",
    "ax3.legend()\n",
    "ax3.xaxis.set_major_locator(mdates.MonthLocator())\n",
    "ax3.xaxis.set_major_formatter(mdates.DateFormatter(\"%b %Y\"))\n",
    "plt.setp(ax3.get_xticklabels(), rotation=45)\n",
    "ax4.axis('off')  \n",
    "ax4.text(0, 0.5, metrics_text_2, fontsize=12, verticalalignment='center')\n",
    "ax4.set_title('Key Metrics', pad=20)\n",
    "plt.tight_layout()\n",
    "plt.show()"
   ]
  },
  {
   "cell_type": "markdown",
   "id": "05ae437c",
   "metadata": {},
   "source": [
    "## Strategy 2 reflections:\n",
    "\n",
    "Sharpe is very close to 1 (a bit better as we basically have a 1:1 risk-reward ratio)\n",
    "\n",
    "CAGR has decreased (sigh)\n",
    "\n",
    "Will keep in shorts and add a stop loss for next strategy"
   ]
  },
  {
   "cell_type": "markdown",
   "id": "8afd33f9",
   "metadata": {},
   "source": [
    "## Strategy 3"
   ]
  },
  {
   "cell_type": "markdown",
   "id": "1cc6155b",
   "metadata": {},
   "source": [
    "Take a short position in March, a long position in August and September, and a flat position in all the other months\n",
    "\n",
    "Trading stops when weekly change in the portfolio (when using strategy 1) is -0.375% \n",
    "(gives max CAGR and sharpe based on values I've tested), is a fixed-percentage stop loss"
   ]
  },
  {
   "cell_type": "code",
   "execution_count": null,
   "id": "0cf6680e",
   "metadata": {
    "lines_to_next_cell": 1
   },
   "outputs": [],
   "source": [
    "threshold =  -0.00375"
   ]
  },
  {
   "cell_type": "code",
   "execution_count": null,
   "id": "380215ae",
   "metadata": {
    "lines_to_next_cell": 1
   },
   "outputs": [],
   "source": [
    "def stop_loss_signal_3(pct_change_portfolio):\n",
    "    if pct_change_portfolio <= threshold:\n",
    "        return 0\n",
    "    else:\n",
    "        return 1 #trading stops when this function returns a 0 (see below ***) "
   ]
  },
  {
   "cell_type": "code",
   "execution_count": null,
   "id": "9a5e0646",
   "metadata": {},
   "outputs": [],
   "source": [
    "df1[\"Weekly percentage change in portfolio\"] = df1[\"Cumulative wealth 1\"].pct_change(periods=5)#this strategy basically updates strategy 1   \n",
    "df1[\"Stop loss signal 3\"] = df1[\"Weekly percentage change in portfolio\"].apply(stop_loss_signal_3)#based on stop loss which is enabled the\n",
    "df1[\"Signal 3\"] = (df1[\"Signal 1\"]*(df1[\"Stop loss signal 3\"].shift(1)))#next day if triggered\n",
    "df1[\"Strategy return 3\"] = df1[\"Signal 3\"]*df1[\"Daily return\"] \n",
    "df1[\"Cumulative wealth 3\"] = (1+df1[\"Strategy return 3\"]).cumprod()"
   ]
  },
  {
   "cell_type": "code",
   "execution_count": null,
   "id": "c13f0f6c",
   "metadata": {},
   "outputs": [],
   "source": [
    "cagr_3 = ((df1[\"Cumulative wealth 3\"].iloc[-1])**(1/3)) - 1 #code is now similar to above cases\n",
    "volatility_3 = df1[\"Strategy return 3\"].std() * np.sqrt(252)\n",
    "sharpe_3 = cagr_3/volatility_3\n",
    "wins_3 = [x for x in df1[\"Strategy return 3\"] if x>0]\n",
    "trades_3 = [x for x in df1[\"Strategy return 3\"] if x!=0]\n",
    "win_rate_3 = len(wins_3)/len(trades_3)\n",
    "df1[\"Rolling max 3\"] = df1[\"Cumulative wealth 3\"].cummax()\n",
    "df1[\"Drawdown 3\"] = ((df1[\"Cumulative wealth 3\"]-df1[\"Rolling max 3\"])/df1[\"Rolling max 3\"])\n",
    "max_drawdown_3 = df1[\"Drawdown 3\"].min()"
   ]
  },
  {
   "cell_type": "code",
   "execution_count": null,
   "id": "d9bce7cb",
   "metadata": {},
   "outputs": [],
   "source": [
    "metrics_text_3 = (\n",
    "    f\"CAGR: {cagr_3*100:.2f}%\\n\"\n",
    "    f\"Sharpe: {sharpe_3:.2f}\\n\"\n",
    "    f\"Max Drawdown: {max_drawdown_3*100:.2f}%\\n\"\n",
    "    f\"Volatility: {volatility_3*100:.2f}%\\n\"\n",
    "    f\"Win rate: {win_rate_3*100:.2f}%\")"
   ]
  },
  {
   "cell_type": "code",
   "execution_count": null,
   "id": "4ff5d7e3",
   "metadata": {},
   "outputs": [],
   "source": [
    "fig3, (ax5, ax6) = plt.subplots(1, 2, figsize=(14,6), gridspec_kw={'width_ratios': [3, 1]})\n",
    "ax5.plot(df1[\"Date\"], df1[\"Cumulative wealth 3\"], label=\"Cumulative Wealth 3\", color='blue')\n",
    "ax5.set_xlabel(\"Date\")\n",
    "ax5.set_ylabel(\"Cumulative Wealth 3\")\n",
    "ax5.set_title(\"Cumulative Wealth 2022-2024 Strategy 3\")\n",
    "ax5.grid(True)\n",
    "ax5.legend()\n",
    "ax5.xaxis.set_major_locator(mdates.MonthLocator())\n",
    "ax5.xaxis.set_major_formatter(mdates.DateFormatter(\"%b %Y\"))\n",
    "plt.setp(ax5.get_xticklabels(), rotation=45)\n",
    "ax6.axis('off')  \n",
    "ax6.text(0, 0.5, metrics_text_3, fontsize=12, verticalalignment='center')\n",
    "ax6.set_title('Key Metrics', pad=20)\n",
    "plt.tight_layout()\n",
    "plt.show()"
   ]
  },
  {
   "cell_type": "markdown",
   "id": "b1242821",
   "metadata": {},
   "source": [
    "## Strategy 3 reflections:\n",
    "\n",
    "Sharpe is 1.23 now meaning the stop loss has helped with risk managment\n",
    "\n",
    "CAGR has increased to 5.12% (still not great but is better than a lot of savings accounts lol)\n",
    "\n",
    "Max drawdown has fallen quite a bit meaning our portfolio protected quite well against falls in the years 2022-2024"
   ]
  },
  {
   "cell_type": "markdown",
   "id": "1368cfe9",
   "metadata": {},
   "source": [
    "## Conclusion"
   ]
  },
  {
   "cell_type": "markdown",
   "id": "f4f8f9de",
   "metadata": {},
   "source": [
    "Would I trade this strategy with BBD/GBP?\n",
    "\n",
    "Probably not, as a large proportion of the returns in the period would have been due \n",
    "to the chaos Liz Truss caused with her mini-budget, which made the pound really weak \n",
    "and hence BBD/GBP rose sharply in that period.\n",
    "\n",
    "BBD is also pegged to USD (I wish I had found this out earlier)\n",
    "so even though minor price movements can occur purely based on holidaymakers, they would \n",
    "have minimal effect. Essentially, we are trading USD/GBP.\n",
    "\n",
    "Some of the assumptions made wouldn't hold as well, especially perfect liquidity, \n",
    "as this pair would be low volume compared to GBP/EUR, meaning wider spreads and \n",
    "less profitability.\n",
    "\n",
    "However, I do think there could be some merit to the idea. If there exists a country \n",
    "that is heavily reliant on tourism from another country, has a floating exchange rate, \n",
    "and is relatively small (so other economic factors are minimal), then their currency \n",
    "ratio could have a large link to holiday season, and a good trading strategy could \n",
    "potentially be developed."
   ]
  }
 ],
 "metadata": {
  "jupytext": {
   "cell_metadata_filter": "-all",
   "main_language": "python",
   "notebook_metadata_filter": "-all"
  }
 },
 "nbformat": 4,
 "nbformat_minor": 5
}
