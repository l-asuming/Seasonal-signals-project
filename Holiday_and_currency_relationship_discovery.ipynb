{
 "cells": [
  {
   "cell_type": "markdown",
   "id": "7c36484c",
   "metadata": {},
   "source": [
    "## Holiday and currency relationship discovery"
   ]
  },
  {
   "cell_type": "code",
   "execution_count": null,
   "id": "4686443e",
   "metadata": {},
   "outputs": [],
   "source": [
    "import numpy as np\n",
    "import pandas as pd\n",
    "import matplotlib.pyplot as plt\n",
    "import matplotlib.dates as mdates"
   ]
  },
  {
   "cell_type": "code",
   "execution_count": null,
   "id": "4cbe667d",
   "metadata": {},
   "outputs": [],
   "source": [
    "df1 = pd.read_csv(\"Projects/Seasonal signals project/BBD_GBP 2022-2024.csv\", encoding='ISO-8859-1')\n",
    "df1[\"Date\"] = pd.to_datetime(df1[\"Date\"], dayfirst=True)\n",
    "df1 = df1.sort_values(\"Date\")\n",
    "df2 = pd.read_csv(\"Projects/Seasonal signals project/UK Tourist arrivals in Barbados 2022-2024.csv\", encoding='ISO-8859-1')"
   ]
  },
  {
   "cell_type": "code",
   "execution_count": null,
   "id": "0a647cef",
   "metadata": {},
   "outputs": [],
   "source": [
    "plt.figure(0, figsize=(10,5))\n",
    "plt.plot(df1[\"Date\"], df1[\"Close\"])\n",
    "plt.xlabel(\"Date\")\n",
    "plt.ylabel(\"BBD/GBP\")\n",
    "plt.title(\"BBD/GBP 2022-2024\")\n",
    "plt.grid(True)\n",
    "ax1 = plt.gca()\n",
    "ax1.xaxis.set_major_locator(mdates.MonthLocator())\n",
    "ax1.xaxis.set_major_formatter(mdates.DateFormatter(\"%b %Y\"))\n",
    "plt.xticks(rotation=45)\n",
    "plt.tight_layout()\n",
    "plt.show() #plot of BBD/GBP over time"
   ]
  },
  {
   "cell_type": "code",
   "execution_count": null,
   "id": "07b726a3",
   "metadata": {},
   "outputs": [],
   "source": [
    "df1[\"Monthly return\"] = df1[\"Close\"].pct_change(periods=23)*100 #adding columns of monthly returns and comparison dates,\n",
    "df1[\"Monthly return comparison date\"] = df1[\"Date\"].shift(23) #using monthly returns as we looked arrivals per month"
   ]
  },
  {
   "cell_type": "code",
   "execution_count": null,
   "id": "140f045c",
   "metadata": {},
   "outputs": [],
   "source": [
    "bins_1 = []\n",
    "i = np.ceil(df1[\"Monthly return\"].min()-1)\n",
    "while i < df1[\"Monthly return\"].max()+1:\n",
    "    bins_1.append(i)\n",
    "    i += 1\n",
    "plt.figure(1)\n",
    "plt.hist(df1[\"Monthly return\"],bins=bins_1,edgecolor=\"white\")\n",
    "plt.xlabel(\"Return\")\n",
    "plt.ylabel(\"Frequency\")\n",
    "plt.title(\"Monthly return histogram\")\n",
    "plt.show() #histogram of monthly returns and their frequency"
   ]
  },
  {
   "cell_type": "code",
   "execution_count": null,
   "id": "3ce1cc73",
   "metadata": {},
   "outputs": [],
   "source": [
    "high_monthly_return_dates = []\n",
    "monthly_return_mean = df1[\"Monthly return\"].mean()\n",
    "monthly_return_std = df1[\"Monthly return\"].std()\n",
    "for (index, monthly_return) in df1[\"Monthly return\"].items():\n",
    "    if monthly_return >= monthly_return_mean + monthly_return_std:\n",
    "        high_monthly_return_dates.append(df1.loc[index, \"Date\"])\n",
    "    #identifies days with a monthly return at least one std above the mean (data is quite symmetric so mean is appropiate I believe)"
   ]
  },
  {
   "cell_type": "code",
   "execution_count": null,
   "id": "c881939c",
   "metadata": {},
   "outputs": [],
   "source": [
    "df3 = pd.DataFrame({\"Date\":high_monthly_return_dates})\n",
    "df3[\"Month number\"] = df3[\"Date\"].dt.month\n",
    "df3[\"Month\"] = df3[\"Date\"].dt.strftime(\"%b\")\n",
    "month_count_1 = df3.groupby(\"Month number\")[\"Month\"].count()\n",
    "month_count_1.index = [pd.to_datetime(str(m), format='%m').strftime('%b') for m in month_count_1.index]"
   ]
  },
  {
   "cell_type": "code",
   "execution_count": null,
   "id": "6a3edb63",
   "metadata": {},
   "outputs": [],
   "source": [
    "plt.figure(2, figsize=(10,7))\n",
    "month_count_1.plot(kind=\"bar\")\n",
    "plt.xlabel(\"Month\")\n",
    "plt.ylabel(\"Frequency\")\n",
    "plt.title(\"Number of days with a monthly return at least one standard deviation above the mean\")\n",
    "s_1 = f\"Mean:{round(monthly_return_mean,4)}\\nStd:{round(monthly_return_std,4)}\\nMean+Std:{round(monthly_return_mean+monthly_return_std,4)}\"\n",
    "plt.text(x=0.8, y=0.9, s=s_1, fontsize=12, transform=plt.gca().transAxes)\n",
    "plt.show() #plots a histogram with category of month and the frequency of days with a monthly return at least one std above the mean"
   ]
  },
  {
   "cell_type": "markdown",
   "id": "380e8034",
   "metadata": {},
   "source": [
    "September, May and October have the most days in the 3 year period with a monthly return at least one std above the mean (28,19,17 respectively)\n",
    "\n",
    "This could imply that going long in August/September/April will be profitable (comparison is one month before the date)\n",
    "\n",
    "Note: The mini-budget was announced in September 2022 and resulted in a large spikes in GBP currency ratios"
   ]
  },
  {
   "cell_type": "code",
   "execution_count": null,
   "id": "027b0124",
   "metadata": {},
   "outputs": [],
   "source": [
    "low_monthly_return_dates = []\n",
    "for (index, monthly_return) in df1[\"Monthly return\"].items():\n",
    "    if monthly_return <= monthly_return_mean - monthly_return_std:\n",
    "        low_monthly_return_dates.append(df1.loc[index, \"Date\"]) #identifies days with a monthly return at least one std below the mean "
   ]
  },
  {
   "cell_type": "code",
   "execution_count": null,
   "id": "d1089159",
   "metadata": {},
   "outputs": [],
   "source": [
    "df4 = pd.DataFrame({\"Date\":low_monthly_return_dates})\n",
    "df4[\"Month number\"] = df4[\"Date\"].dt.month\n",
    "df4[\"Month\"] = df4[\"Date\"].dt.strftime(\"%b\")\n",
    "month_count_2 = df4.groupby(\"Month number\")[\"Month\"].count()\n",
    "month_count_2.index = [pd.to_datetime(str(m), format='%m').strftime('%b') for m in month_count_2.index]"
   ]
  },
  {
   "cell_type": "code",
   "execution_count": null,
   "id": "d4c5a248",
   "metadata": {},
   "outputs": [],
   "source": [
    "plt.figure(3, figsize=(10,7))\n",
    "month_count_2.plot(kind=\"bar\")\n",
    "plt.xlabel(\"Month\")\n",
    "plt.ylabel(\"Frequency\")\n",
    "plt.title(\"Number of days with a monthly return at most one standard deviation below the mean\")\n",
    "s_2 = f\"Mean:{round(monthly_return_mean,4)}\\nStd:{round(monthly_return_std,4)}\\nMean-Std:{round(monthly_return_mean-monthly_return_std,4)}\"\n",
    "plt.text(x=0.4, y=0.9, s=s_2, fontsize=12, transform=plt.gca().transAxes)\n",
    "plt.show() #plots a histogram with category of month and the frequency of days with a monthly return at least one std below the mean"
   ]
  },
  {
   "cell_type": "markdown",
   "id": "496923cd",
   "metadata": {},
   "source": [
    "November, December, and April have the most days in the 3 year period with a monthly return at least one std below the mean (26,25,13 respectively)\n",
    "\n",
    "This could imply that going short in October/November/March will be profitable\n",
    "\n",
    "The results from the histograms may agree with thesis in that ratio begins to rise before holiday the season (August/September) \n",
    "and begins to fall at the end/after holiday season (March)\n",
    "\n",
    "Can also indicate ratio falls after tourists arrive because they have already exchanged their GBP for BBD meaning demand decreases for BBD (November)\n",
    "\n",
    "However, BBD/USD is fixed (found this out way too late) so price movements due to UK holidaymakers may be restricted"
   ]
  },
  {
   "cell_type": "code",
   "execution_count": null,
   "id": "24224bdc",
   "metadata": {},
   "outputs": [],
   "source": [
    "df2[\"Month middle\"] = pd.to_datetime(df2[\"Year\"].astype(str) + \"-\" + (df2[\"Month number\"]).astype(str) + \"-15\")\n",
    "fig, ax1 = plt.subplots(figsize=(12,8))\n",
    "ax1.plot(df1[\"Date\"], df1[\"Monthly return\"], color=\"blue\")\n",
    "ax1.set_ylabel(\"Monthly Return\", color=\"blue\")\n",
    "ax2 = ax1.twinx()\n",
    "ax2.plot(df2[\"Month middle\"], df2[\"UK Tourist arrivals\"], color=\"red\", marker=\"o\")\n",
    "ax2.set_ylabel(\"Tourist Arrivals\", color=\"red\")\n",
    "plt.title(\"Monthly Returns vs Monthly Tourist Arrivals\")\n",
    "plt.show()"
   ]
  },
  {
   "cell_type": "markdown",
   "id": "7f32e1a1",
   "metadata": {},
   "source": [
    "The sharpest increase in monthly tourist arrivals occurs between months October and November \n",
    "and the sharpest decline in monthly tourist arrivals occur between months March and April\n",
    "\n",
    "Before sharp increases in monthly tourist arrivals, monthly returns are positive (September, October) \n",
    "and after sharp declines in monthly tourist arrivals, monthly returns are negative (April)\n",
    "\n",
    "Could develop a profitable trading strategy based on this, signal is the time of year"
   ]
  },
  {
   "cell_type": "code",
   "execution_count": null,
   "id": "ad04915b",
   "metadata": {},
   "outputs": [],
   "source": [
    " "
   ]
  }
 ],
 "metadata": {
  "jupytext": {
   "cell_metadata_filter": "-all",
   "main_language": "python",
   "notebook_metadata_filter": "-all"
  }
 },
 "nbformat": 4,
 "nbformat_minor": 5
}
